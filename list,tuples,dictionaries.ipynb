{
 "cells": [
  {
   "cell_type": "markdown",
   "id": "f78da2b7",
   "metadata": {},
   "source": [
    "1.Write a Python script to sort (ascending and descending) a dictionary by value.\n",
    "\n",
    "2.Write a Python script to concatenate following dictionaries to create a new one. Go to the editor\n",
    "\n",
    "Sample Dictionary :\n",
    "\n",
    "dic1={1:10, 2:20}\n",
    "\n",
    "dic2={3:30, 4:40}\n",
    "\n",
    "dic3={5:50,6:60}\n",
    "\n",
    "Expected Result : {1: 10, 2: 20, 3: 30, 4: 40, 5: 50, 6: 60}\n",
    "3.Write a Python script to check whether a given key already exists in a dictionary.\n",
    "\n",
    "4.Write a Python script to generate and print a dictionary that contains a number (between 1 and n) in the form (x, x*x). Go to the editor\n",
    "\n",
    "Sample Dictionary ( n = 5) :\n",
    "\n",
    "Expected Output : {1: 1, 2: 4, 3: 9, 4: 16, 5: 25}\n",
    "\n",
    "5.Write a Python script to print a dictionary where the keys are numbers between 1 and 15 (both included) and the values are square of keys. Go to the editor\n",
    "\n",
    "Sample Dictionary\n",
    "\n",
    "{1: 1, 2: 4, 3: 9, 4: 16, 5: 25, 6: 36, 7: 49, 8: 64, 9: 81, 10: 100, 11: 121, 12: 144, 13: 169, 14: 196, 15: 225}\n",
    "\n",
    "6.Write a Python program to replace last value of tuples in a list. Go to the editor\n",
    "\n",
    "Sample list: [(10, 20, 40), (40, 50, 60), (70, 80, 90)]\n",
    "\n",
    "Expected Output: [(10, 20, 100), (40, 50, 100), (70, 80, 100)]\n",
    "\n",
    "7.Write a Python program to remove the intersection of a 2nd set from the 1st set."
   ]
  },
  {
   "cell_type": "code",
   "execution_count": 1,
   "id": "91283112",
   "metadata": {},
   "outputs": [
    {
     "name": "stdout",
     "output_type": "stream",
     "text": [
      "{1: 1, 3: 4, 2: 9}\n"
     ]
    }
   ],
   "source": [
    "dict1 = {1: 1, 2: 9, 3: 4}\n",
    "sorted_values = sorted(dict1.values()) # Sort the values\n",
    "sorted_dict = {}\n",
    "\n",
    "for i in sorted_values:\n",
    "    for k in dict1.keys():\n",
    "        if dict1[k] == i:\n",
    "            sorted_dict[k] = dict1[k]\n",
    "            break\n",
    "\n",
    "print(sorted_dict)"
   ]
  },
  {
   "cell_type": "code",
   "execution_count": 3,
   "id": "14d3c84a",
   "metadata": {},
   "outputs": [
    {
     "name": "stdout",
     "output_type": "stream",
     "text": [
      "{1: 10, 2: 20, 3: 30, 4: 40, 5: 50, 6: 60}\n"
     ]
    }
   ],
   "source": [
    "#2.\n",
    "dic1={1:10, 2:20}\n",
    "\n",
    "dic2={3:30, 4:40}\n",
    "\n",
    "dic3={5:50,6:60}\n",
    "dicfinal={}\n",
    "\n",
    "dicfinal.update(dic1.copy())\n",
    "dicfinal.update(dic2.copy())\n",
    "dicfinal.update(dic3.copy())\n",
    "print(dicfinal)\n"
   ]
  },
  {
   "cell_type": "code",
   "execution_count": null,
   "id": "92ef345d",
   "metadata": {},
   "outputs": [],
   "source": []
  },
  {
   "cell_type": "code",
   "execution_count": 18,
   "id": "5906b723",
   "metadata": {},
   "outputs": [
    {
     "name": "stdout",
     "output_type": "stream",
     "text": [
      "Enter the key : 4\n",
      "Key found and value is  40\n"
     ]
    }
   ],
   "source": [
    "#3. taking dicfinal from previous question\n",
    "\n",
    "def keychecker(dicfinal,key):\n",
    "    if key in dicfinal:\n",
    "        print(\"Key found and value is \",dicfinal[key])\n",
    "    else:\n",
    "        print(\"KEY NOT FOUND\")\n",
    "\n",
    "key=int(input(\"Enter the key : \"))\n",
    "\n",
    "keychecker(dicfinal,key)"
   ]
  },
  {
   "cell_type": "code",
   "execution_count": 9,
   "id": "b768bf44",
   "metadata": {},
   "outputs": [
    {
     "name": "stdout",
     "output_type": "stream",
     "text": [
      "Enter the value of n :15\n",
      "{1: 1, 2: 4, 3: 9, 4: 16, 5: 25, 6: 36, 7: 49, 8: 64, 9: 81, 10: 100, 11: 121, 12: 144, 13: 169, 14: 196, 15: 225}\n"
     ]
    }
   ],
   "source": [
    "#4.\n",
    "n=int(input(\"Enter the value of n :\"))\n",
    "dic={}\n",
    "for i in range(1,n+1):\n",
    "    dic.update({i:i**2})\n",
    "print(dic)\n"
   ]
  },
  {
   "cell_type": "code",
   "execution_count": 5,
   "id": "3065be2b",
   "metadata": {},
   "outputs": [
    {
     "name": "stdout",
     "output_type": "stream",
     "text": [
      "{1: 1, 2: 4, 3: 9, 4: 16, 5: 25, 6: 36, 7: 49, 8: 64, 9: 81, 10: 100, 11: 121, 12: 144, 13: 169, 14: 196, 15: 225}\n"
     ]
    }
   ],
   "source": [
    "#5.\n",
    "dic={}\n",
    "for i in range(1,16):\n",
    "    dic.update({i:i**2})    #** gives power\n",
    "print(dic)"
   ]
  },
  {
   "cell_type": "code",
   "execution_count": 15,
   "id": "3f2d051c",
   "metadata": {},
   "outputs": [
    {
     "name": "stdout",
     "output_type": "stream",
     "text": [
      "[(10, 20, 100), (40, 50, 100), (70, 80, 100)]\n"
     ]
    }
   ],
   "source": [
    "#6.\n",
    "alist=[(10, 20, 40), (40, 50, 60), (70, 80, 90)]\n",
    "\n",
    "for i in range(0,3):\n",
    "    atuple=alist.pop(0)\n",
    "    templist=list(atuple)\n",
    "    templist[-1]=100\n",
    "    alist.append(tuple(templist))\n",
    "print(alist)\n",
    "    \n",
    "\n"
   ]
  },
  {
   "cell_type": "code",
   "execution_count": 2,
   "id": "86262743",
   "metadata": {},
   "outputs": [
    {
     "name": "stdout",
     "output_type": "stream",
     "text": [
      "{1, 2, 3, 6, 7, 8}\n"
     ]
    }
   ],
   "source": [
    "#7.\n",
    "set1={1,2,3,4,5}\n",
    "set2={4,5,6,7,8}\n",
    "\n",
    "set3=set1.symmetric_difference(set2);\n",
    "print(set3)"
   ]
  },
  {
   "cell_type": "code",
   "execution_count": null,
   "id": "ea5e3846",
   "metadata": {},
   "outputs": [],
   "source": []
  }
 ],
 "metadata": {
  "kernelspec": {
   "display_name": "Python 3 (ipykernel)",
   "language": "python",
   "name": "python3"
  },
  "language_info": {
   "codemirror_mode": {
    "name": "ipython",
    "version": 3
   },
   "file_extension": ".py",
   "mimetype": "text/x-python",
   "name": "python",
   "nbconvert_exporter": "python",
   "pygments_lexer": "ipython3",
   "version": "3.9.7"
  }
 },
 "nbformat": 4,
 "nbformat_minor": 5
}
