{
 "cells": [
  {
   "cell_type": "code",
   "execution_count": 15,
   "id": "e87c8491",
   "metadata": {},
   "outputs": [
    {
     "name": "stdout",
     "output_type": "stream",
     "text": [
      "{0, 1, 2, 3, 5}\n"
     ]
    }
   ],
   "source": [
    "set1=set((1,3,5,2,0));\n",
    "print(set1)\n"
   ]
  },
  {
   "cell_type": "code",
   "execution_count": 31,
   "id": "19e7cc87",
   "metadata": {},
   "outputs": [
    {
     "name": "stdout",
     "output_type": "stream",
     "text": [
      "{1.0: 'addidas', 'ajeet': 'nishit', 120: 'adi'}\n"
     ]
    }
   ],
   "source": [
    "dict1={1.0:\"adi\",\"ajeet\":\"nishit\",120:\"adi\"}\n",
    "dict1[1.0]=\"addidas\"\n",
    "print(dict1)"
   ]
  },
  {
   "cell_type": "code",
   "execution_count": null,
   "id": "c9e1cfcc",
   "metadata": {},
   "outputs": [],
   "source": []
  },
  {
   "cell_type": "code",
   "execution_count": null,
   "id": "5011b26e",
   "metadata": {},
   "outputs": [],
   "source": []
  }
 ],
 "metadata": {
  "kernelspec": {
   "display_name": "Python 3 (ipykernel)",
   "language": "python",
   "name": "python3"
  },
  "language_info": {
   "codemirror_mode": {
    "name": "ipython",
    "version": 3
   },
   "file_extension": ".py",
   "mimetype": "text/x-python",
   "name": "python",
   "nbconvert_exporter": "python",
   "pygments_lexer": "ipython3",
   "version": "3.9.7"
  }
 },
 "nbformat": 4,
 "nbformat_minor": 5
}
