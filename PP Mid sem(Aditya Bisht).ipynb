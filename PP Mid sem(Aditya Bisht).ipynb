{
 "cells": [
  {
   "cell_type": "markdown",
   "id": "4001246d",
   "metadata": {},
   "source": [
    "# PDF AudioBook Application"
   ]
  },
  {
   "cell_type": "markdown",
   "id": "4ddc0f67",
   "metadata": {},
   "source": [
    "Description: I have created an application using python's text to speech library- pyttsx3 and python's library for performing operations on PDFs -PyPDF2 to create an audiobook application which can read entire PDFs or specific pages according to user input. I have used tkinter to create the UI for this application."
   ]
  },
  {
   "cell_type": "markdown",
   "id": "242d95bf",
   "metadata": {},
   "source": [
    "Potential Uses:\n",
    "Most students prefer downloading pdfs for course textbooks and some may even download novels. Having an application to read out pdfs could be a useful gimmick."
   ]
  },
  {
   "cell_type": "markdown",
   "id": "0b0bd0aa",
   "metadata": {},
   "source": [
    "Features: \n",
    "This application can read an entire pdf or from a specific page. It can also read a single page. The user can choose from a male voice and a female voice. The user can also choose the speed at which it reads so he doesn't have trouble understanding the audio."
   ]
  },
  {
   "cell_type": "markdown",
   "id": "b53a0280",
   "metadata": {},
   "source": [
    "Code : I have written comments to explain functioning(UI created using tkinter)"
   ]
  },
  {
   "cell_type": "code",
   "execution_count": 1,
   "id": "98e19214",
   "metadata": {},
   "outputs": [],
   "source": [
    "#importing neccessary libraries\n",
    "import PyPDF2\n",
    "import pyttsx3\n",
    "from tkinter import *\n",
    "from tkinter.ttk import *   \n",
    "\n",
    "\n",
    "# creates a Tk() object\n",
    "master = Tk()\n",
    "\n",
    "# sets the geometry of main\n",
    "# root window\n",
    "master.geometry(\"350x300\")\n",
    "master.title(\"Audiobook\")\n",
    "frame= Frame(master, relief= 'sunken')\n",
    "frame.pack(fill= BOTH, expand= True, padx= 20, pady=30)\n",
    "\n",
    "Label(frame,\n",
    "    text =\"Select the operation you want to perform -\").pack()\n",
    "# function to open a new window\n",
    "# on a button click\n",
    "\n",
    "def getpage():   #function to display input page \n",
    "     \n",
    "   \n",
    "    newWindow = Toplevel(master)\n",
    "    \n",
    "    def printpdf():\n",
    "        pdfname=name.get()\n",
    "        book=open(pdfname,'rb')\n",
    "        pdfreader=PyPDF2.PdfFileReader(book) \n",
    "        page_number=int(number.get())\n",
    "        page=pdfreader.getPage(page_number)\n",
    "        page_text=page.extractText()\n",
    "        \n",
    "        print(page_text)\n",
    "        \n",
    "    # sets the title of the\n",
    "    # Toplevel widget\n",
    "    newWindow.title(\"Print PDF\")\n",
    " \n",
    "    # sets the geometry of toplevel\n",
    "    newWindow.geometry(\"350x300\")\n",
    "    Label(newWindow,\n",
    "    text = \"PDF name\").pack()\n",
    "    name= Entry(newWindow, width= 30)\n",
    "    name.focus_set()     \n",
    "    name.pack()\n",
    "    \n",
    "    Label(newWindow,\n",
    "    text =\"Page Number (Printed on console)\").pack()\n",
    "    number= Entry(newWindow, width= 30)\n",
    "    number.focus_set()     \n",
    "    number.pack()\n",
    "    \n",
    "    btn = Button(newWindow, text='Print page',width=30,command=printpdf)\n",
    "    btn.place(x=205, y=100)\n",
    "    btn.pack()\n",
    "\n",
    "def countpages():\n",
    "    def count():\n",
    "        pdfname=name.get()\n",
    "        book=open(pdfname,'rb')\n",
    "        pdfreader=PyPDF2.PdfFileReader(book)\n",
    "        pages_number=pdfreader.numPages\n",
    "        print(\"The number of pages is \",pages_number)\n",
    "        \n",
    "    \n",
    "         \n",
    "    newwindow=Toplevel(master)\n",
    "    \n",
    "    newwindow.title(\"Count Pages\")\n",
    "    \n",
    "    newwindow.geometry(\"450x350\")\n",
    "    Label(newwindow,\n",
    "    text =\"PDF name\").pack()\n",
    "    name= Entry(newwindow, width= 30)\n",
    "    name.focus_set() \n",
    "    name.pack()\n",
    "    \n",
    "    btn = Button(newwindow, text='Count pages',width=30,command=count)\n",
    "  \n",
    "    btn.pack()\n",
    "    \n",
    "    \n",
    "def pdfreader():\n",
    "    def readpdf():\n",
    "        pdfname=name.get()\n",
    "        book=open(pdfname,'rb')\n",
    "        pdfreader=PyPDF2.PdfFileReader(book)\n",
    "        page_number=number.get()\n",
    "        if(page_number==\"full\"):\n",
    "            for i in range(pdfreader.numPages):                             \n",
    "                current_page = pdfreader.getPage(i)\n",
    "                print(\"===================\")\n",
    "                print(\"Content on page:\" + str(i + 1))\n",
    "                print(\"===================\")\n",
    "                print(current_page.extractText())\n",
    "                speaker.say(current_page.extractText())\n",
    "                speaker.runAndWait()\n",
    "\n",
    "        else:\n",
    "            page=pdfreader.getPage(int(page_number))\n",
    "            page_text=page.extractText()\n",
    "            speaker.say(page_text)\n",
    "            speaker.runAndWait()\n",
    "            \n",
    "            \n",
    "        \n",
    "       \n",
    "        \n",
    "    newwindow=Toplevel(master)     #opens new window on button click\n",
    "    \n",
    "    newwindow.title(\"Read PDF\")\n",
    "    \n",
    "    #Create an Entry widget to accept User Input\n",
    "   \n",
    "    newwindow.geometry(\"450x350\")\n",
    "    speaker= pyttsx3.init()\n",
    "    \n",
    "    Label(newwindow,\n",
    "    text =\"Select voice(male/female)\").pack()\n",
    "    voicenumber= Entry(newwindow, width= 30)\n",
    "    voicenumber.focus_set() \n",
    "    voicenumber.pack()   \n",
    "    voice1=voicenumber.get()\n",
    "    \n",
    "    voices = speaker.getProperty('voices')\n",
    "    if(voice1==\"male\"):\n",
    "        speaker.setProperty('voice', voices[0]. id)\n",
    "       \n",
    "    else:\n",
    "        speaker.setProperty('voice',voices[1].id)       \n",
    "        \n",
    "     \n",
    "       \n",
    "    Label(newwindow,\n",
    "    text =\"PDF name\").pack()\n",
    "    name= Entry(newwindow, width= 30)\n",
    "    \n",
    "    name.focus_set()     \n",
    "    name.pack()\n",
    "    \n",
    "    Label(newwindow,\n",
    "    text =\"Reading rate\").pack()\n",
    "    rate= Entry(newwindow, width= 30)\n",
    "    rate_number=rate.get()\n",
    "    speaker.setProperty(\"rate\", rate_number)\n",
    "    rate.focus_set()     \n",
    "    rate.pack()\n",
    "    \n",
    "    Label(newwindow,\n",
    "    text =\"Page Number (Type full to read the complete PDF)\").pack()\n",
    "    number= Entry(newwindow, width= 30)\n",
    "    number.focus_set()     \n",
    "    number.pack()\n",
    "    \n",
    "    btn = Button(newwindow, text='Read',width=30,command=readpdf)\n",
    "    btn.place(x=205, y=100)\n",
    "    btn.pack()\n",
    "\n",
    "\n",
    "printbtn = Button(frame, text='Play PDF as Audiobook',width=30,command=pdfreader)\n",
    "\n",
    "printbtn.pack()\n",
    "\n",
    "btn2 = Button(frame, text='Display page',width=30,command=getpage)\n",
    "\n",
    "btn2.pack()\n",
    "\n",
    "countbtn = Button(frame, text='Count pages',width=30,command=countpages)\n",
    "\n",
    "countbtn.pack()\n",
    "# mainloop, runs infinitely\n",
    "\n",
    "\n",
    "mainloop()"
   ]
  },
  {
   "cell_type": "markdown",
   "id": "e7ade06d",
   "metadata": {},
   "source": [
    "Output screenshots:"
   ]
  },
  {
   "attachments": {
    "1.PNG": {
     "image/png": "[encoded data removed]"
    }
   },
   "cell_type": "markdown",
   "id": "c790d3b1",
   "metadata": {},
   "source": [
    "![1.PNG](attachment:1.PNG)"
   ]
  },
  {
   "attachments": {
    "2.PNG": {
     "image/png": "[encoded data removed]"
    }
   },
   "cell_type": "markdown",
   "id": "55e9d3ff",
   "metadata": {},
   "source": [
    "![2.PNG](attachment:2.PNG)"
   ]
  },
  {
   "cell_type": "markdown",
   "id": "c4dc79f6",
   "metadata": {},
   "source": [
    "Future improvements:"
   ]
  },
  {
   "cell_type": "markdown",
   "id": "16b80434",
   "metadata": {},
   "source": [
    "1) Using pyaudio to add voice commands."
   ]
  },
  {
   "cell_type": "markdown",
   "id": "6662afe2",
   "metadata": {},
   "source": [
    "2) Ability to save the audiobook as an mp3 file."
   ]
  },
  {
   "cell_type": "markdown",
   "id": "0d806ce1",
   "metadata": {},
   "source": [
    "3) Improving the User Interface."
   ]
  },
  {
   "cell_type": "markdown",
   "id": "b98928cc",
   "metadata": {},
   "source": [
    "4) Adding reading functionality for other file formats (.txt etc).\n"
   ]
  }
 ],
 "metadata": {
  "kernelspec": {
   "display_name": "Python 3 (ipykernel)",
   "language": "python",
   "name": "python3"
  },
  "language_info": {
   "codemirror_mode": {
    "name": "ipython",
    "version": 3
   },
   "file_extension": ".py",
   "mimetype": "text/x-python",
   "name": "python",
   "nbconvert_exporter": "python",
   "pygments_lexer": "ipython3",
   "version": "3.9.7"
  }
 },
 "nbformat": 4,
 "nbformat_minor": 5
}
