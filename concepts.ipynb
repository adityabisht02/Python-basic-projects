{
 "cells": [
  {
   "cell_type": "code",
   "execution_count": 1,
   "id": "14a24fe2-ea9e-47c1-a320-cd456eebb93e",
   "metadata": {},
   "outputs": [
    {
     "name": "stdout",
     "output_type": "stream",
     "text": [
      "hello\n"
     ]
    }
   ],
   "source": [
    "print(\"hello\")\n"
   ]
  },
  {
   "cell_type": "code",
   "execution_count": 2,
   "id": "196a7400-0d09-4b50-ae95-27e4ce3002ac",
   "metadata": {},
   "outputs": [
    {
     "name": "stdout",
     "output_type": "stream",
     "text": [
      "9\n"
     ]
    }
   ],
   "source": [
    "x=9\n",
    "print(x)"
   ]
  },
  {
   "cell_type": "code",
   "execution_count": 3,
   "id": "3961e61d-3959-4070-b9af-ea2f6760a1bc",
   "metadata": {},
   "outputs": [
    {
     "ename": "TypeError",
     "evalue": "can only concatenate str (not \"int\") to str",
     "output_type": "error",
     "traceback": [
      "\u001b[1;31m---------------------------------------------------------------------------\u001b[0m",
      "\u001b[1;31mTypeError\u001b[0m                                 Traceback (most recent call last)",
      "\u001b[1;32m~\\AppData\\Local\\Temp/ipykernel_25264/413484633.py\u001b[0m in \u001b[0;36m<module>\u001b[1;34m\u001b[0m\n\u001b[0;32m      1\u001b[0m \u001b[0mname\u001b[0m\u001b[1;33m=\u001b[0m\u001b[1;34m\"adi\"\u001b[0m\u001b[1;33m\u001b[0m\u001b[1;33m\u001b[0m\u001b[0m\n\u001b[0;32m      2\u001b[0m \u001b[0mage\u001b[0m\u001b[1;33m=\u001b[0m\u001b[1;36m19\u001b[0m\u001b[1;33m\u001b[0m\u001b[1;33m\u001b[0m\u001b[0m\n\u001b[1;32m----> 3\u001b[1;33m \u001b[0mprint\u001b[0m\u001b[1;33m(\u001b[0m\u001b[1;34m\"My name is \"\u001b[0m\u001b[1;33m+\u001b[0m\u001b[0mname\u001b[0m\u001b[1;33m+\u001b[0m\u001b[1;34m\" age is \"\u001b[0m\u001b[1;33m+\u001b[0m\u001b[0mage\u001b[0m\u001b[1;33m)\u001b[0m\u001b[1;33m\u001b[0m\u001b[1;33m\u001b[0m\u001b[0m\n\u001b[0m",
      "\u001b[1;31mTypeError\u001b[0m: can only concatenate str (not \"int\") to str"
     ]
    }
   ],
   "source": [
    "name=\"adi\"\n",
    "age=19\n",
    "print(\"My name is \"+name+\" age is \"+age)\n"
   ]
  },
  {
   "cell_type": "code",
   "execution_count": 4,
   "id": "4be8ce11-278c-4d6d-b583-dc8bc73e7213",
   "metadata": {},
   "outputs": [
    {
     "name": "stdout",
     "output_type": "stream",
     "text": [
      "name is adi\n"
     ]
    }
   ],
   "source": [
    "name =\"adi\"\n",
    "print(\"name is \"+name)\n"
   ]
  },
  {
   "cell_type": "code",
   "execution_count": 5,
   "id": "9536fdc1-d6b3-4a10-9822-68e41003a911",
   "metadata": {},
   "outputs": [
    {
     "name": "stdout",
     "output_type": "stream",
     "text": [
      "odd\n"
     ]
    }
   ],
   "source": [
    "number=17\n",
    "if number%2==0:\n",
    "    print(\"even\")\n",
    "else:\n",
    "    print(\"odd\")\n",
    "   \n",
    "        \n",
    "   "
   ]
  },
  {
   "cell_type": "code",
   "execution_count": 6,
   "id": "5392218f",
   "metadata": {},
   "outputs": [
    {
     "name": "stdout",
     "output_type": "stream",
     "text": [
      "odd\n"
     ]
    }
   ],
   "source": [
    "num=17\n",
    "print(\"even\") if(num%2==0) else print(\"odd\")"
   ]
  },
  {
   "cell_type": "code",
   "execution_count": 9,
   "id": "8ec1397a",
   "metadata": {},
   "outputs": [
    {
     "name": "stdout",
     "output_type": "stream",
     "text": [
      "18\n"
     ]
    }
   ],
   "source": [
    "a=17   #finding greater of 2 \n",
    "b=18\n",
    "print(a) if(a>b) else print(b) if(b>a) else print(\"=\")"
   ]
  },
  {
   "cell_type": "code",
   "execution_count": 11,
   "id": "896b4c28",
   "metadata": {},
   "outputs": [
    {
     "name": "stdout",
     "output_type": "stream",
     "text": [
      "1\n",
      "2\n",
      "3\n",
      "4\n",
      "5\n",
      "6\n",
      "7\n",
      "8\n",
      "9\n",
      "10\n"
     ]
    }
   ],
   "source": [
    "i=1\n",
    "while(i<=10):\n",
    "    print(i)\n",
    "    i+=1;"
   ]
  },
  {
   "cell_type": "code",
   "execution_count": 9,
   "id": "0250a75e",
   "metadata": {},
   "outputs": [
    {
     "name": "stdout",
     "output_type": "stream",
     "text": [
      "max is\n",
      "300\n"
     ]
    }
   ],
   "source": [
    "list=[1,300,4,2,5,10]\n",
    "max=list[0]\n",
    "\n",
    "for i in list:\n",
    "    if i>max:\n",
    "        max=i\n",
    "print (\"max is\")\n",
    "print (max)        "
   ]
  },
  {
   "cell_type": "code",
   "execution_count": 11,
   "id": "1aa048d1",
   "metadata": {},
   "outputs": [
    {
     "name": "stdout",
     "output_type": "stream",
     "text": [
      "1\n",
      "3\n",
      "5\n",
      "number of odd is:\n",
      "3\n"
     ]
    }
   ],
   "source": [
    "list=[1,2,3,4,5,6]\n",
    "count=0\n",
    "\n",
    "for i in list:\n",
    "    if i%2!=0:\n",
    "        print(i)\n",
    "        count+=1;\n",
    "print(\"number of odd is:\")\n",
    "print(count)"
   ]
  },
  {
   "cell_type": "code",
   "execution_count": 1,
   "id": "c0a97f08",
   "metadata": {},
   "outputs": [
    {
     "name": "stdout",
     "output_type": "stream",
     "text": [
      "1\n",
      "adi\n",
      "2\n",
      "bb\n"
     ]
    }
   ],
   "source": [
    "tuple=[1,\"adi\",2,\"bb\"];\n",
    "for i in tuple:\n",
    "    print(i)\n",
    "    "
   ]
  },
  {
   "cell_type": "code",
   "execution_count": 9,
   "id": "537d857e",
   "metadata": {},
   "outputs": [
    {
     "name": "stdout",
     "output_type": "stream",
     "text": [
      "Enter the value :1\n",
      "Key found 1\n"
     ]
    }
   ],
   "source": [
    "#input taken is by default string\n",
    "\n",
    "key=input(\"Enter the value :\");\n",
    "tuple=[\"1\",\"adi\",8,\"abb\",\"dr\"];\n",
    "for i in tuple:\n",
    "    if key==i:\n",
    "        print(\"Key found\",key);\n",
    "        break;\n"
   ]
  },
  {
   "cell_type": "code",
   "execution_count": null,
   "id": "cf09af21",
   "metadata": {},
   "outputs": [],
   "source": [
    "#sort a dictionary by value\n",
    "\n",
    "dict = {\n",
    "  \"brand\": \"Ford\",\n",
    "  \"model\": \"Mustang\",\n",
    "  \"year\": 1964,\n",
    "    \"items\":[\"laptop\",\"phone\"]\n",
    "}\n",
    "\n"
   ]
  },
  {
   "cell_type": "code",
   "execution_count": null,
   "id": "f9af2e04",
   "metadata": {},
   "outputs": [],
   "source": []
  }
 ],
 "metadata": {
  "kernelspec": {
   "display_name": "Python 3 (ipykernel)",
   "language": "python",
   "name": "python3"
  },
  "language_info": {
   "codemirror_mode": {
    "name": "ipython",
    "version": 3
   },
   "file_extension": ".py",
   "mimetype": "text/x-python",
   "name": "python",
   "nbconvert_exporter": "python",
   "pygments_lexer": "ipython3",
   "version": "3.9.7"
  }
 },
 "nbformat": 4,
 "nbformat_minor": 5
}
