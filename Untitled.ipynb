{
 "cells": [
  {
   "cell_type": "code",
   "execution_count": 4,
   "id": "7508c988",
   "metadata": {},
   "outputs": [
    {
     "name": "stdout",
     "output_type": "stream",
     "text": [
      "55555554944444445\n"
     ]
    }
   ],
   "source": [
    "from math import ceil, floor\n",
    "\n",
    "def karatsuba(x,y):\n",
    "    #base case\n",
    "    if x < 10 and y < 10: \n",
    "        return x*y\n",
    "\n",
    "    n = max(len(str(x)), len(str(y)))\n",
    "    m = ceil(n/2)  \n",
    "\n",
    "    x_H  = floor(x / 10**m)\n",
    "    x_L = x % (10**m)\n",
    "\n",
    "    y_H = floor(y / 10**m)\n",
    "    y_L = y % (10**m)\n",
    "\n",
    "    #recursive steps\n",
    "    a = karatsuba(x_H,y_H)\n",
    "    d = karatsuba(x_L,y_L)\n",
    "    e = karatsuba(x_H + x_L, y_H + y_L) - a - d\n",
    "\n",
    "    return int(a*(10**(m*2)) + e*(10**m) + d)\n",
    "\n",
    "\n",
    "print(karatsuba(99999999,555555555))"
   ]
  },
  {
   "cell_type": "code",
   "execution_count": null,
   "id": "971610f7",
   "metadata": {},
   "outputs": [],
   "source": []
  }
 ],
 "metadata": {
  "kernelspec": {
   "display_name": "Python 3 (ipykernel)",
   "language": "python",
   "name": "python3"
  },
  "language_info": {
   "codemirror_mode": {
    "name": "ipython",
    "version": 3
   },
   "file_extension": ".py",
   "mimetype": "text/x-python",
   "name": "python",
   "nbconvert_exporter": "python",
   "pygments_lexer": "ipython3",
   "version": "3.9.7"
  }
 },
 "nbformat": 4,
 "nbformat_minor": 5
}
