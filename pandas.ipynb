{
 "cells": [
  {
   "cell_type": "code",
   "execution_count": 1,
   "id": "90e81d6f",
   "metadata": {},
   "outputs": [
    {
     "name": "stdout",
     "output_type": "stream",
     "text": [
      "Requirement already satisfied: pandas in c:\\users\\adity\\anaconda3\\lib\\site-packages (1.3.4)\n",
      "Requirement already satisfied: numpy>=1.17.3 in c:\\users\\adity\\anaconda3\\lib\\site-packages (from pandas) (1.20.3)\n",
      "Requirement already satisfied: pytz>=2017.3 in c:\\users\\adity\\anaconda3\\lib\\site-packages (from pandas) (2021.3)\n",
      "Requirement already satisfied: python-dateutil>=2.7.3 in c:\\users\\adity\\anaconda3\\lib\\site-packages (from pandas) (2.8.2)\n",
      "Requirement already satisfied: six>=1.5 in c:\\users\\adity\\anaconda3\\lib\\site-packages (from python-dateutil>=2.7.3->pandas) (1.16.0)\n"
     ]
    }
   ],
   "source": [
    "!pip install pandas"
   ]
  },
  {
   "cell_type": "code",
   "execution_count": 5,
   "id": "458a45d8",
   "metadata": {},
   "outputs": [
    {
     "data": {
      "text/html": [
       "<div>\n",
       "<style scoped>\n",
       "    .dataframe tbody tr th:only-of-type {\n",
       "        vertical-align: middle;\n",
       "    }\n",
       "\n",
       "    .dataframe tbody tr th {\n",
       "        vertical-align: top;\n",
       "    }\n",
       "\n",
       "    .dataframe thead th {\n",
       "        text-align: right;\n",
       "    }\n",
       "</style>\n",
       "<table border=\"1\" class=\"dataframe\">\n",
       "  <thead>\n",
       "    <tr style=\"text-align: right;\">\n",
       "      <th></th>\n",
       "      <th>Author Full Names</th>\n",
       "      <th>Addresses</th>\n",
       "    </tr>\n",
       "  </thead>\n",
       "  <tbody>\n",
       "    <tr>\n",
       "      <th>0</th>\n",
       "      <td>Ripolles, Maria</td>\n",
       "      <td>Univ Jaume 1, Dept Adm Empresas &amp; Mkt Org Empr...</td>\n",
       "    </tr>\n",
       "    <tr>\n",
       "      <th>1</th>\n",
       "      <td>Warhuus, Jan P.; Tanggaard, Lene; Robinson, Sa...</td>\n",
       "      <td>[Warhuus, Jan P.] Aarhus Univ, Dept Management...</td>\n",
       "    </tr>\n",
       "    <tr>\n",
       "      <th>2</th>\n",
       "      <td>Forsstrom-Tuominen, Heidi; Jussila, Iiro; Kolh...</td>\n",
       "      <td>[Forsstrom-Tuominen, Heidi; Jussila, Iiro; Kol...</td>\n",
       "    </tr>\n",
       "    <tr>\n",
       "      <th>3</th>\n",
       "      <td>Mayhew, Matthew J.; Simonoff, Jeffrey S.; Baum...</td>\n",
       "      <td>[Mayhew, Matthew J.] NYU, Steinhardt Sch Cultu...</td>\n",
       "    </tr>\n",
       "    <tr>\n",
       "      <th>4</th>\n",
       "      <td>Mathieu, Cynthia; St-Jean, Etienne</td>\n",
       "      <td>[Mathieu, Cynthia; St-Jean, Etienne] Univ Queb...</td>\n",
       "    </tr>\n",
       "    <tr>\n",
       "      <th>...</th>\n",
       "      <td>...</td>\n",
       "      <td>...</td>\n",
       "    </tr>\n",
       "    <tr>\n",
       "      <th>995</th>\n",
       "      <td>Arora, VK; Faraone, L</td>\n",
       "      <td>Wilkes Univ, Dept Engn Phys, Wilkes Barre, PA ...</td>\n",
       "    </tr>\n",
       "    <tr>\n",
       "      <th>996</th>\n",
       "      <td>Baptista, Rui; Lima, Francisco; Mendonca, Joana</td>\n",
       "      <td>[Baptista, Rui; Mendonca, Joana] Univ Tecn Lis...</td>\n",
       "    </tr>\n",
       "    <tr>\n",
       "      <th>997</th>\n",
       "      <td>Washburn, Newell R.</td>\n",
       "      <td>[Washburn, Newell R.] Carnegie Mellon Univ, De...</td>\n",
       "    </tr>\n",
       "    <tr>\n",
       "      <th>998</th>\n",
       "      <td>Agbaria, Ayman K.; Mustafa, Muhanad</td>\n",
       "      <td>[Agbaria, Ayman K.] Univ Haifa, Dept Leadershi...</td>\n",
       "    </tr>\n",
       "    <tr>\n",
       "      <th>999</th>\n",
       "      <td>Ogunmodede, Adewale M.; Ogunsanwo, Mary O.; Ma...</td>\n",
       "      <td>[Ogunmodede, Adewale M.] Univ Ibadan, Fac Agr,...</td>\n",
       "    </tr>\n",
       "  </tbody>\n",
       "</table>\n",
       "<p>1000 rows × 2 columns</p>\n",
       "</div>"
      ],
      "text/plain": [
       "                                     Author Full Names  \\\n",
       "0                                      Ripolles, Maria   \n",
       "1    Warhuus, Jan P.; Tanggaard, Lene; Robinson, Sa...   \n",
       "2    Forsstrom-Tuominen, Heidi; Jussila, Iiro; Kolh...   \n",
       "3    Mayhew, Matthew J.; Simonoff, Jeffrey S.; Baum...   \n",
       "4                   Mathieu, Cynthia; St-Jean, Etienne   \n",
       "..                                                 ...   \n",
       "995                              Arora, VK; Faraone, L   \n",
       "996    Baptista, Rui; Lima, Francisco; Mendonca, Joana   \n",
       "997                                Washburn, Newell R.   \n",
       "998                Agbaria, Ayman K.; Mustafa, Muhanad   \n",
       "999  Ogunmodede, Adewale M.; Ogunsanwo, Mary O.; Ma...   \n",
       "\n",
       "                                             Addresses  \n",
       "0    Univ Jaume 1, Dept Adm Empresas & Mkt Org Empr...  \n",
       "1    [Warhuus, Jan P.] Aarhus Univ, Dept Management...  \n",
       "2    [Forsstrom-Tuominen, Heidi; Jussila, Iiro; Kol...  \n",
       "3    [Mayhew, Matthew J.] NYU, Steinhardt Sch Cultu...  \n",
       "4    [Mathieu, Cynthia; St-Jean, Etienne] Univ Queb...  \n",
       "..                                                 ...  \n",
       "995  Wilkes Univ, Dept Engn Phys, Wilkes Barre, PA ...  \n",
       "996  [Baptista, Rui; Mendonca, Joana] Univ Tecn Lis...  \n",
       "997  [Washburn, Newell R.] Carnegie Mellon Univ, De...  \n",
       "998  [Agbaria, Ayman K.] Univ Haifa, Dept Leadershi...  \n",
       "999  [Ogunmodede, Adewale M.] Univ Ibadan, Fac Agr,...  \n",
       "\n",
       "[1000 rows x 2 columns]"
      ]
     },
     "metadata": {},
     "output_type": "display_data"
    }
   ],
   "source": [
    "import pandas as pd\n",
    "df=pd.read_excel('Data1.xls')           #df is the dataframe\n",
    "display(df)\n",
    "\n"
   ]
  },
  {
   "cell_type": "code",
   "execution_count": 17,
   "id": "78f27b0e",
   "metadata": {},
   "outputs": [
    {
     "data": {
      "text/plain": [
       "0                                      [Ripolles, Maria]\n",
       "1      [Warhuus, Jan P.,  Tanggaard, Lene,  Robinson,...\n",
       "2      [Forsstrom-Tuominen, Heidi,  Jussila, Iiro,  K...\n",
       "3      [Mayhew, Matthew J.,  Simonoff, Jeffrey S.,  B...\n",
       "4                  [Mathieu, Cynthia,  St-Jean, Etienne]\n",
       "                             ...                        \n",
       "995                             [Arora, VK,  Faraone, L]\n",
       "996    [Baptista, Rui,  Lima, Francisco,  Mendonca, J...\n",
       "997                                [Washburn, Newell R.]\n",
       "998               [Agbaria, Ayman K.,  Mustafa, Muhanad]\n",
       "999    [Ogunmodede, Adewale M.,  Ogunsanwo, Mary O., ...\n",
       "Name: Author Full Names, Length: 1000, dtype: object"
      ]
     },
     "execution_count": 17,
     "metadata": {},
     "output_type": "execute_result"
    }
   ],
   "source": [
    "df['Author Full Names'].str.split(';',  expand=True)"
   ]
  },
  {
   "cell_type": "code",
   "execution_count": 14,
   "id": "1f203245",
   "metadata": {},
   "outputs": [],
   "source": []
  },
  {
   "cell_type": "code",
   "execution_count": null,
   "id": "74a5e5cb",
   "metadata": {},
   "outputs": [],
   "source": []
  }
 ],
 "metadata": {
  "kernelspec": {
   "display_name": "Python 3 (ipykernel)",
   "language": "python",
   "name": "python3"
  },
  "language_info": {
   "codemirror_mode": {
    "name": "ipython",
    "version": 3
   },
   "file_extension": ".py",
   "mimetype": "text/x-python",
   "name": "python",
   "nbconvert_exporter": "python",
   "pygments_lexer": "ipython3",
   "version": "3.9.7"
  }
 },
 "nbformat": 4,
 "nbformat_minor": 5
}
