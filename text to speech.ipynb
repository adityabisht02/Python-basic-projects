{
 "cells": [
  {
   "cell_type": "code",
   "execution_count": 2,
   "id": "24b63cb3",
   "metadata": {},
   "outputs": [
    {
     "name": "stdout",
     "output_type": "stream",
     "text": [
      "Requirement already satisfied: PyPDF2 in c:\\users\\adity\\anaconda3\\lib\\site-packages (1.26.0)\n",
      "Note: you may need to restart the kernel to use updated packages.\n"
     ]
    }
   ],
   "source": [
    "pip install PyPDF2"
   ]
  },
  {
   "cell_type": "code",
   "execution_count": 2,
   "id": "acaa4103",
   "metadata": {},
   "outputs": [],
   "source": [
    "import pyttsx3\n",
    "engine = pyttsx3. init()\n",
    "voices = engine. getProperty('voices')\n",
    "engine. setProperty('voice', voices[1]. id) #changing index changes voices but ony 0 and 1 are working here.\n",
    "#text=input(str(\"enter the text u wanna read aloud : \"))\n",
    "engine. say(\"my name is aadi and ure looking good aadi i hope u have a nice day sirr nisheeeeeeeeeeeeeeeeee t\")\n",
    "engine. runAndWait()\n",
    "\n",
    "\n",
    "\n"
   ]
  },
  {
   "cell_type": "code",
   "execution_count": 16,
   "id": "e1331da3",
   "metadata": {},
   "outputs": [
    {
     "name": "stdout",
     "output_type": "stream",
     "text": [
      "<PyPDF2.pdf.PdfFileReader object at 0x0000018A998E5AC0>\n"
     ]
    }
   ],
   "source": [
    "import pyttsx3\n",
    "import PyPDF2\n",
    "\n",
    "import PySimpleGUI as sg\n",
    "  \n",
    "# Add some color\n",
    "# to the window\n",
    "sg.theme('Dark Amber')     \n",
    "\n",
    "# Very basic window.\n",
    "# Return values using\n",
    "# automatic-numbered keys\n",
    "layout = [\n",
    "    [sg.Text('PDF reader')],\n",
    "    [sg.Text('Enter the name of the pdf u want to play ', size =(21, 1)), sg.InputText()],             #size represents x and y coordinates\n",
    "    [sg.Text('Enter page number  ', size =(17, 1)), sg.InputText()],  \n",
    "    [sg.Submit(), sg.Cancel()]\n",
    "]\n",
    "  \n",
    "window = sg.Window('Simple data entry window', layout)\n",
    "event, values = window.read()\n",
    "window.close()\n",
    "  \n",
    "# The input data looks like a simple list \n",
    "# when automatic numbered\n",
    "#print(event, values[0], values[1], values[2],values[3]) \n",
    "pdf= values[0]\n",
    "#print(pdf)\n",
    "book=open(pdf,'rb')\n",
    "pdfreader=PyPDF2.PdfFileReader(book)   \n",
    "pages_number=pdfreader.numPages\n",
    "print(pdfreader)\n",
    "page=pdfreader.getPage(0)\n",
    "page_text=page.extractText()\n",
    "\n",
    "#speaker= pyttsx3.init()\n",
    "#speaker.say(page_text)\n",
    "#speaker.runAndWait()\n"
   ]
  },
  {
   "cell_type": "code",
   "execution_count": null,
   "id": "74328681",
   "metadata": {},
   "outputs": [],
   "source": []
  },
  {
   "cell_type": "code",
   "execution_count": null,
   "id": "311daed9",
   "metadata": {},
   "outputs": [],
   "source": []
  }
 ],
 "metadata": {
  "kernelspec": {
   "display_name": "Python 3 (ipykernel)",
   "language": "python",
   "name": "python3"
  },
  "language_info": {
   "codemirror_mode": {
    "name": "ipython",
    "version": 3
   },
   "file_extension": ".py",
   "mimetype": "text/x-python",
   "name": "python",
   "nbconvert_exporter": "python",
   "pygments_lexer": "ipython3",
   "version": "3.9.7"
  }
 },
 "nbformat": 4,
 "nbformat_minor": 5
}
