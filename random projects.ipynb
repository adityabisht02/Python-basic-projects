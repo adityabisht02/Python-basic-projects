{
 "cells": [
  {
   "cell_type": "code",
   "execution_count": 8,
   "id": "1fd86b2d",
   "metadata": {},
   "outputs": [
    {
     "name": "stdout",
     "output_type": "stream",
     "text": [
      "Collecting PySimpleGUI\n",
      "  Downloading PySimpleGUI-4.57.0-py3-none-any.whl (491 kB)\n",
      "Installing collected packages: PySimpleGUI\n",
      "Successfully installed PySimpleGUI-4.57.0\n"
     ]
    }
   ],
   "source": [
    "import sys\n",
    "!{sys.executable} -m pip install PySimpleGUI\n"
   ]
  },
  {
   "cell_type": "code",
   "execution_count": 2,
   "id": "1695bb6f",
   "metadata": {},
   "outputs": [
    {
     "name": "stdout",
     "output_type": "stream",
     "text": [
      "Hello None ! Thanks for trying PySimpleGUI\n"
     ]
    }
   ],
   "source": [
    "\n",
    "import PySimpleGUI as sg                        # Part 1 - The import\n",
    "\n",
    "# Define the window's contents\n",
    "layout = [  [sg.Text(\"Enter your name?\")],     # Part 2 - The Layout\n",
    "            [sg.Input()],\n",
    "            [sg.Button('submit')] ]\n",
    "\n",
    "# Create the window\n",
    "window = sg.Window('Window Title', layout)      # Part 3 - Window Defintion\n",
    "\n",
    "# Display and interact with the Window\n",
    "event, values = window.read()                   # Part 4 - Event loop or Window.read call\n",
    "\n",
    "# Do something with the information gathered\n",
    "print('Hello', values[0], \"! Thanks for trying PySimpleGUI\")\n",
    "\n",
    "# Finish up by removing from the screen\n",
    "window.close() "
   ]
  },
  {
   "cell_type": "code",
   "execution_count": null,
   "id": "86ac49a9",
   "metadata": {},
   "outputs": [],
   "source": []
  }
 ],
 "metadata": {
  "kernelspec": {
   "display_name": "Python 3 (ipykernel)",
   "language": "python",
   "name": "python3"
  },
  "language_info": {
   "codemirror_mode": {
    "name": "ipython",
    "version": 3
   },
   "file_extension": ".py",
   "mimetype": "text/x-python",
   "name": "python",
   "nbconvert_exporter": "python",
   "pygments_lexer": "ipython3",
   "version": "3.9.7"
  }
 },
 "nbformat": 4,
 "nbformat_minor": 5
}
