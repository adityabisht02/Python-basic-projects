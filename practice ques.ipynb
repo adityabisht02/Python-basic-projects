{
 "cells": [
  {
   "cell_type": "markdown",
   "id": "57d1e795",
   "metadata": {},
   "source": [
    "1. Write a program to insert a number to any position in a list.\n",
    "\n",
    "2. Write a program to delete an element from a list by index.\n",
    "\n",
    "3. Write a program for Third largest element in an array of distinct elements.\n",
    "\n",
    "4. Write a Program to Print Largest Even and Largest Odd Number in a List.\n",
    "\n",
    "5. Write a Program for Largest K digit number divisible by X.\n",
    "\n",
    "6. Write a Program to find Sum of Negative, Positive Even and Positive Odd numbers in a List.\n",
    "\n",
    "7. Write a Program to check whether it is possible to make a divisible by 3 number using all digits in an array."
   ]
  },
  {
   "cell_type": "code",
   "execution_count": 3,
   "id": "fac51c4b",
   "metadata": {},
   "outputs": [
    {
     "name": "stdout",
     "output_type": "stream",
     "text": [
      "1\n",
      "3\n",
      "4\n",
      "2\n",
      "7\n"
     ]
    }
   ],
   "source": [
    "#2. deletion\n",
    "\n",
    "List=[1,3,4,2,6,7];\n",
    "index=4;\n",
    "\n",
    "for i in range(0,5):\n",
    "    if i==index:\n",
    "        for j in range(index,5):\n",
    "             List[i]=List[i+1];\n",
    "\n",
    "for i in range(0,5):\n",
    "    print(List[i]);\n",
    "    \n",
    "    "
   ]
  },
  {
   "cell_type": "code",
   "execution_count": 4,
   "id": "06f2f762",
   "metadata": {},
   "outputs": [
    {
     "name": "stdout",
     "output_type": "stream",
     "text": [
      "7\n",
      "6\n"
     ]
    }
   ],
   "source": [
    "# 4. largest even and odd\n",
    "arr=[1,4,5,6,7,3,2];\n",
    "maxodd=0;\n",
    "maxeven=0;\n",
    "\n",
    "for i in arr:\n",
    "    if i%2==0:\n",
    "        if i>maxeven:\n",
    "            maxeven=i;\n",
    "    else:\n",
    "        if i>maxodd:\n",
    "            maxodd=i;\n",
    "            \n",
    "print(maxodd);\n",
    "print(maxeven);\n",
    "\n",
    "            \n",
    "            "
   ]
  },
  {
   "cell_type": "code",
   "execution_count": 7,
   "id": "bf774c1f",
   "metadata": {},
   "outputs": [
    {
     "name": "stdout",
     "output_type": "stream",
     "text": [
      "divisible by 3\n"
     ]
    }
   ],
   "source": [
    "#7. div by 3\n",
    "arr=[1,3,4,5,6,2];\n",
    "sum=0;\n",
    "\n",
    "for i in arr:\n",
    "    sum=sum+i;\n",
    "    \n",
    "if sum%3==0:\n",
    "    print(\"divisible by 3\")\n",
    "else:\n",
    "    print(\"not divisible\");\n",
    "    "
   ]
  },
  {
   "cell_type": "code",
   "execution_count": 6,
   "id": "0fdcca4d",
   "metadata": {},
   "outputs": [
    {
     "name": "stdout",
     "output_type": "stream",
     "text": [
      "1\n",
      "3\n",
      "5\n",
      "4\n",
      "2\n",
      "6\n",
      "7\n"
     ]
    }
   ],
   "source": [
    "#1. insertion\n",
    "\n",
    "List=[1,3,4,2,6,7];\n",
    "index=2;\n",
    "value=5;\n",
    "List.append(0);     #increasing size by 1\n",
    "for i in range(6,index,-1):\n",
    "    List[i]=List[i-1];\n",
    "\n",
    "List[index]=value;\n",
    "\n",
    "for i in range(0,7):\n",
    "    print(List[i]);"
   ]
  },
  {
   "cell_type": "code",
   "execution_count": 18,
   "id": "a1fb80bc",
   "metadata": {},
   "outputs": [
    {
     "name": "stdout",
     "output_type": "stream",
     "text": [
      "6\n"
     ]
    }
   ],
   "source": [
    "# 3.third largest\n",
    "list=[1,17,3,6,2,10];\n",
    "\n",
    "def bubblesort(list):\n",
    "    for i in range(0,len(list)):\n",
    "        for j in range(0,len(list)-1):\n",
    "            if list[j]>list[j+1]:\n",
    "                temp=list[j+1];\n",
    "                list[j+1]=list[j];\n",
    "                list[j]=temp;\n",
    "bubblesort(list);               \n",
    "print(list[len(list)-3]);\n",
    "        "
   ]
  },
  {
   "cell_type": "code",
   "execution_count": 21,
   "id": "3a08d5fe",
   "metadata": {},
   "outputs": [
    {
     "name": "stdout",
     "output_type": "stream",
     "text": [
      "5\n",
      "0\n",
      "8\n"
     ]
    }
   ],
   "source": [
    "# 6.sum of -ve +ve and odd\n",
    "list=[1,4,3,2,5,6,7,9];\n",
    "negative=0;\n",
    "positive=0;\n",
    "odd=0;\n",
    "for i in list:\n",
    "    if i<0:\n",
    "        negative=negative+1;\n",
    "    if i>0:\n",
    "        positive=positive+1;\n",
    "    if i%2!=0:\n",
    "        odd=odd+1;\n",
    "print(odd)\n",
    "print(negative)\n",
    "print(positive)\n"
   ]
  },
  {
   "cell_type": "code",
   "execution_count": 24,
   "id": "9c7b1277",
   "metadata": {},
   "outputs": [
    {
     "name": "stdout",
     "output_type": "stream",
     "text": [
      "9999\n",
      "9996\n"
     ]
    }
   ],
   "source": [
    "# largest k digit number divisible by x\n",
    "x=7;\n",
    "k=4;\n",
    "number=0;\n",
    "while(k>0):\n",
    "    number=9+number*10;  #forming the k digit number\n",
    "    k=k-1;\n",
    "\n",
    "\n",
    "ans=0;\n",
    "for i in range(number,0,-1):          #checking divisibility \n",
    "    if number%x==0:\n",
    "        ans=number;\n",
    "        break;\n",
    "    number=number-1;\n",
    "\n",
    "print(ans);\n",
    "    \n"
   ]
  },
  {
   "cell_type": "code",
   "execution_count": null,
   "id": "1f0c9cd9",
   "metadata": {},
   "outputs": [],
   "source": [
    "#1.\n"
   ]
  },
  {
   "cell_type": "code",
   "execution_count": 1,
   "id": "cf47f029",
   "metadata": {},
   "outputs": [
    {
     "name": "stdout",
     "output_type": "stream",
     "text": [
      "{1: True, 2: 'bci', 3: 'gkl', 5: False, 6: False}\n"
     ]
    }
   ],
   "source": [
    "#2.\n",
    "dict1={\n",
    "    1:\"adi\",\n",
    "    2:\"bci\",\n",
    "    3:\"gkl\"\n",
    "}\n",
    "dict2={\n",
    "    1:True,\n",
    "    5:False,\n",
    "    6:False\n",
    "}\n",
    "resultantDictionary = dict()\n",
    "resultantDictionary.update(dict1.copy())\n",
    "resultantDictionary.update(dict2.copy())\n",
    "print(resultantDictionary)"
   ]
  },
  {
   "cell_type": "code",
   "execution_count": 30,
   "id": "9f035d9e",
   "metadata": {},
   "outputs": [
    {
     "name": "stdout",
     "output_type": "stream",
     "text": [
      "{1: 1, 2: 4, 3: 9, 4: 16, 5: 25, 6: 36, 7: 49, 8: 64, 9: 81, 10: 100, 11: 121, 12: 144, 13: 169, 14: 196, 15: 225}\n"
     ]
    }
   ],
   "source": [
    "#5.\n",
    "dict={}\n",
    "for i in range(1,16):\n",
    "    dict.update({i:i**2})   # ** gives power\n",
    "print(dict)\n"
   ]
  },
  {
   "cell_type": "code",
   "execution_count": 65,
   "id": "0187b980",
   "metadata": {},
   "outputs": [
    {
     "ename": "TypeError",
     "evalue": "'list' object is not callable",
     "output_type": "error",
     "traceback": [
      "\u001b[1;31m---------------------------------------------------------------------------\u001b[0m",
      "\u001b[1;31mTypeError\u001b[0m                                 Traceback (most recent call last)",
      "\u001b[1;32m~\\AppData\\Local\\Temp/ipykernel_17752/2764521673.py\u001b[0m in \u001b[0;36m<module>\u001b[1;34m\u001b[0m\n\u001b[0;32m      4\u001b[0m \u001b[1;32mfor\u001b[0m \u001b[0mi\u001b[0m \u001b[1;32min\u001b[0m \u001b[0mrange\u001b[0m\u001b[1;33m(\u001b[0m\u001b[0mn\u001b[0m\u001b[1;33m)\u001b[0m\u001b[1;33m:\u001b[0m\u001b[1;33m\u001b[0m\u001b[1;33m\u001b[0m\u001b[0m\n\u001b[0;32m      5\u001b[0m     \u001b[0mt4tuple\u001b[0m\u001b[1;33m=\u001b[0m\u001b[0msampleListOfTuples\u001b[0m\u001b[1;33m.\u001b[0m\u001b[0mpop\u001b[0m\u001b[1;33m(\u001b[0m\u001b[1;36m0\u001b[0m\u001b[1;33m)\u001b[0m\u001b[1;33m\u001b[0m\u001b[1;33m\u001b[0m\u001b[0m\n\u001b[1;32m----> 6\u001b[1;33m     \u001b[0mtempList\u001b[0m\u001b[1;33m=\u001b[0m\u001b[0mlist\u001b[0m\u001b[1;33m(\u001b[0m\u001b[0mt4tuple\u001b[0m\u001b[1;33m)\u001b[0m\u001b[1;33m\u001b[0m\u001b[1;33m\u001b[0m\u001b[0m\n\u001b[0m\u001b[0;32m      7\u001b[0m     \u001b[0mtempList\u001b[0m\u001b[1;33m[\u001b[0m\u001b[1;33m-\u001b[0m\u001b[1;36m1\u001b[0m\u001b[1;33m]\u001b[0m\u001b[1;33m=\u001b[0m\u001b[1;36m100\u001b[0m\u001b[1;33m\u001b[0m\u001b[1;33m\u001b[0m\u001b[0m\n\u001b[0;32m      8\u001b[0m     \u001b[0msampleListOfTuples\u001b[0m\u001b[1;33m.\u001b[0m\u001b[0mappend\u001b[0m\u001b[1;33m(\u001b[0m\u001b[0mtuple\u001b[0m\u001b[1;33m(\u001b[0m\u001b[0mtempList\u001b[0m\u001b[1;33m)\u001b[0m\u001b[1;33m)\u001b[0m\u001b[1;33m\u001b[0m\u001b[1;33m\u001b[0m\u001b[0m\n",
      "\u001b[1;31mTypeError\u001b[0m: 'list' object is not callable"
     ]
    }
   ],
   "source": [
    "#6. \n",
    "sampleListOfTuples = [(10,20,40),(20,30,50),(30,40,60)]\n",
    "n=len(sampleListOfTuples)\n",
    "for i in range(n):\n",
    "    t4tuple=sampleListOfTuples.pop(0)\n",
    "    tempList=list(t4tuple)\n",
    "    tempList[-1]=100\n",
    "    sampleListOfTuples.append(tuple(tempList))\n",
    "print(sampleListOfTuples)"
   ]
  },
  {
   "cell_type": "code",
   "execution_count": 64,
   "id": "75d1948a",
   "metadata": {},
   "outputs": [
    {
     "name": "stdout",
     "output_type": "stream",
     "text": [
      "{1, 2, 3, 7, 8, 9}\n"
     ]
    }
   ],
   "source": [
    "#7.\n",
    "set1=set((1,2,3,4,5,6))\n",
    "set2=set((4,5,6,7,8,9))\n",
    "finalSet=set1.symmetric_difference(set2)\n",
    "print(finalSet)"
   ]
  },
  {
   "cell_type": "code",
   "execution_count": null,
   "id": "89864819",
   "metadata": {},
   "outputs": [],
   "source": []
  },
  {
   "cell_type": "code",
   "execution_count": null,
   "id": "9e7d1eca",
   "metadata": {},
   "outputs": [],
   "source": []
  }
 ],
 "metadata": {
  "kernelspec": {
   "display_name": "Python 3 (ipykernel)",
   "language": "python",
   "name": "python3"
  },
  "language_info": {
   "codemirror_mode": {
    "name": "ipython",
    "version": 3
   },
   "file_extension": ".py",
   "mimetype": "text/x-python",
   "name": "python",
   "nbconvert_exporter": "python",
   "pygments_lexer": "ipython3",
   "version": "3.9.7"
  }
 },
 "nbformat": 4,
 "nbformat_minor": 5
}
