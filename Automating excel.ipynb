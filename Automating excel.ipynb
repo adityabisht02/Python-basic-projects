{
 "cells": [
  {
   "cell_type": "code",
   "execution_count": 4,
   "id": "d29280fa",
   "metadata": {},
   "outputs": [
    {
     "name": "stdout",
     "output_type": "stream",
     "text": [
      "Enter file name : Data1.xls\n"
     ]
    },
    {
     "data": {
      "text/html": [
       "<div>\n",
       "<style scoped>\n",
       "    .dataframe tbody tr th:only-of-type {\n",
       "        vertical-align: middle;\n",
       "    }\n",
       "\n",
       "    .dataframe tbody tr th {\n",
       "        vertical-align: top;\n",
       "    }\n",
       "\n",
       "    .dataframe thead th {\n",
       "        text-align: right;\n",
       "    }\n",
       "</style>\n",
       "<table border=\"1\" class=\"dataframe\">\n",
       "  <thead>\n",
       "    <tr style=\"text-align: right;\">\n",
       "      <th></th>\n",
       "      <th>Author Full Names</th>\n",
       "      <th>Addresses</th>\n",
       "    </tr>\n",
       "  </thead>\n",
       "  <tbody>\n",
       "    <tr>\n",
       "      <th>995</th>\n",
       "      <td>Arora, VK; Faraone, L</td>\n",
       "      <td>Wilkes Univ, Dept Engn Phys, Wilkes Barre, PA ...</td>\n",
       "    </tr>\n",
       "    <tr>\n",
       "      <th>996</th>\n",
       "      <td>Baptista, Rui; Lima, Francisco; Mendonca, Joana</td>\n",
       "      <td>[Baptista, Rui; Mendonca, Joana] Univ Tecn Lis...</td>\n",
       "    </tr>\n",
       "    <tr>\n",
       "      <th>997</th>\n",
       "      <td>Washburn, Newell R.</td>\n",
       "      <td>[Washburn, Newell R.] Carnegie Mellon Univ, De...</td>\n",
       "    </tr>\n",
       "    <tr>\n",
       "      <th>998</th>\n",
       "      <td>Agbaria, Ayman K.; Mustafa, Muhanad</td>\n",
       "      <td>[Agbaria, Ayman K.] Univ Haifa, Dept Leadershi...</td>\n",
       "    </tr>\n",
       "    <tr>\n",
       "      <th>999</th>\n",
       "      <td>Ogunmodede, Adewale M.; Ogunsanwo, Mary O.; Ma...</td>\n",
       "      <td>[Ogunmodede, Adewale M.] Univ Ibadan, Fac Agr,...</td>\n",
       "    </tr>\n",
       "  </tbody>\n",
       "</table>\n",
       "</div>"
      ],
      "text/plain": [
       "                                     Author Full Names  \\\n",
       "995                              Arora, VK; Faraone, L   \n",
       "996    Baptista, Rui; Lima, Francisco; Mendonca, Joana   \n",
       "997                                Washburn, Newell R.   \n",
       "998                Agbaria, Ayman K.; Mustafa, Muhanad   \n",
       "999  Ogunmodede, Adewale M.; Ogunsanwo, Mary O.; Ma...   \n",
       "\n",
       "                                             Addresses  \n",
       "995  Wilkes Univ, Dept Engn Phys, Wilkes Barre, PA ...  \n",
       "996  [Baptista, Rui; Mendonca, Joana] Univ Tecn Lis...  \n",
       "997  [Washburn, Newell R.] Carnegie Mellon Univ, De...  \n",
       "998  [Agbaria, Ayman K.] Univ Haifa, Dept Leadershi...  \n",
       "999  [Ogunmodede, Adewale M.] Univ Ibadan, Fac Agr,...  "
      ]
     },
     "metadata": {},
     "output_type": "display_data"
    }
   ],
   "source": [
    "import pandas as pd\n",
    "name= input(str(\"Enter file name : \"))\n",
    "df=pd.read_excel(name)\n",
    "display(df.tail())"
   ]
  },
  {
   "cell_type": "code",
   "execution_count": 6,
   "id": "9d2b76e3",
   "metadata": {},
   "outputs": [
    {
     "name": "stdout",
     "output_type": "stream",
     "text": [
      "<bound method DataFrame.count of                                      Author Full Names  \\\n",
      "0                                      Ripolles, Maria   \n",
      "1    Warhuus, Jan P.; Tanggaard, Lene; Robinson, Sa...   \n",
      "2    Forsstrom-Tuominen, Heidi; Jussila, Iiro; Kolh...   \n",
      "3    Mayhew, Matthew J.; Simonoff, Jeffrey S.; Baum...   \n",
      "4                   Mathieu, Cynthia; St-Jean, Etienne   \n",
      "..                                                 ...   \n",
      "995                              Arora, VK; Faraone, L   \n",
      "996    Baptista, Rui; Lima, Francisco; Mendonca, Joana   \n",
      "997                                Washburn, Newell R.   \n",
      "998                Agbaria, Ayman K.; Mustafa, Muhanad   \n",
      "999  Ogunmodede, Adewale M.; Ogunsanwo, Mary O.; Ma...   \n",
      "\n",
      "                                             Addresses  \n",
      "0    Univ Jaume 1, Dept Adm Empresas & Mkt Org Empr...  \n",
      "1    [Warhuus, Jan P.] Aarhus Univ, Dept Management...  \n",
      "2    [Forsstrom-Tuominen, Heidi; Jussila, Iiro; Kol...  \n",
      "3    [Mayhew, Matthew J.] NYU, Steinhardt Sch Cultu...  \n",
      "4    [Mathieu, Cynthia; St-Jean, Etienne] Univ Queb...  \n",
      "..                                                 ...  \n",
      "995  Wilkes Univ, Dept Engn Phys, Wilkes Barre, PA ...  \n",
      "996  [Baptista, Rui; Mendonca, Joana] Univ Tecn Lis...  \n",
      "997  [Washburn, Newell R.] Carnegie Mellon Univ, De...  \n",
      "998  [Agbaria, Ayman K.] Univ Haifa, Dept Leadershi...  \n",
      "999  [Ogunmodede, Adewale M.] Univ Ibadan, Fac Agr,...  \n",
      "\n",
      "[1000 rows x 2 columns]>\n"
     ]
    }
   ],
   "source": [
    "rows=df.count;\n",
    "print(rows)"
   ]
  },
  {
   "cell_type": "code",
   "execution_count": null,
   "id": "2587b90a",
   "metadata": {},
   "outputs": [],
   "source": []
  },
  {
   "cell_type": "code",
   "execution_count": null,
   "id": "27c0b035",
   "metadata": {},
   "outputs": [],
   "source": []
  },
  {
   "cell_type": "code",
   "execution_count": null,
   "id": "ce3d9aea",
   "metadata": {},
   "outputs": [],
   "source": []
  },
  {
   "cell_type": "code",
   "execution_count": null,
   "id": "2d1b7d63",
   "metadata": {},
   "outputs": [],
   "source": []
  },
  {
   "cell_type": "code",
   "execution_count": null,
   "id": "4a3bb58f",
   "metadata": {},
   "outputs": [],
   "source": []
  },
  {
   "cell_type": "code",
   "execution_count": null,
   "id": "3c0451e2",
   "metadata": {},
   "outputs": [],
   "source": []
  },
  {
   "cell_type": "code",
   "execution_count": null,
   "id": "eaf6d50c",
   "metadata": {},
   "outputs": [],
   "source": []
  },
  {
   "cell_type": "code",
   "execution_count": null,
   "id": "be07f252",
   "metadata": {},
   "outputs": [],
   "source": []
  }
 ],
 "metadata": {
  "kernelspec": {
   "display_name": "Python 3 (ipykernel)",
   "language": "python",
   "name": "python3"
  },
  "language_info": {
   "codemirror_mode": {
    "name": "ipython",
    "version": 3
   },
   "file_extension": ".py",
   "mimetype": "text/x-python",
   "name": "python",
   "nbconvert_exporter": "python",
   "pygments_lexer": "ipython3",
   "version": "3.9.7"
  }
 },
 "nbformat": 4,
 "nbformat_minor": 5
}
