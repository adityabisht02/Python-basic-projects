{
 "cells": [
  {
   "cell_type": "code",
   "execution_count": 1,
   "metadata": {},
   "outputs": [],
   "source": [
    "myDictionary={\n",
    "    1:2,\n",
    "    2:4,\n",
    "    3:3,\n",
    "    4:7\n",
    "}"
   ]
  },
  {
   "cell_type": "code",
   "execution_count": 2,
   "metadata": {},
   "outputs": [
    {
     "data": {
      "text/plain": [
       "{1: 2, 2: 4, 3: 3, 4: 7}"
      ]
     },
     "execution_count": 2,
     "metadata": {},
     "output_type": "execute_result"
    }
   ],
   "source": [
    "myDictionary"
   ]
  },
  {
   "cell_type": "markdown",
   "metadata": {},
   "source": [
    "# Exercise\n",
    "1. Write a Python script to sort (ascending and descending) a dictionary by value.\n",
    "\n",
    "2. Write a Python script to concatenate following dictionaries to create a new one. Go to the editor\n",
    "\n",
    "   Sample Dictionary :\n",
    "\n",
    "        dic1={1:10, 2:20}\n",
    "\n",
    "        dic2={3:30, 4:40}\n",
    "\n",
    "        dic3={5:50,6:60}\n",
    "\n",
    "        Expected Result : {1: 10, 2: 20, 3: 30, 4: 40, 5: 50, 6: 60}\n",
    "   \n",
    "\n",
    "3. Write a Python script to check whether a given key already exists in a dictionary.\n",
    "\n",
    "4. Write a Python script to generate and print a dictionary that contains a number (between 1 and n) in the form (x, x*x). Go to the editor\n",
    "\n",
    "    Sample Dictionary ( n = 5) :\n",
    "   \n",
    "    Expected Output : {1: 1, 2: 4, 3: 9, 4: 16, 5: 25}\n",
    "\n",
    "\n",
    "5. Write a Python script to print a dictionary where the keys are numbers between 1 and 15 (both included) and the values are square of keys. Go to the editor\n",
    "\n",
    "    Sample Dictionary\n",
    "   \n",
    "    {1: 1, 2: 4, 3: 9, 4: 16, 5: 25, 6: 36, 7: 49, 8: 64, 9: 81, 10: 100, 11: 121, 12: 144, 13: 169, 14: 196, 15: 225}\n",
    "   \n",
    "   \n",
    "6. Write a Python program to replace last value of tuples in a list. Go to the editor\n",
    "\n",
    "    Sample list: [(10, 20, 40), (40, 50, 60), (70, 80, 90)]\n",
    "   \n",
    "    Expected Output: [(10, 20, 100), (40, 50, 100), (70, 80, 100)]\n",
    "   \n",
    "   \n",
    "7. Write a Python program to remove the intersection of a 2nd set from the 1st set."
   ]
  },
  {
   "cell_type": "code",
   "execution_count": 17,
   "metadata": {},
   "outputs": [
    {
     "name": "stdout",
     "output_type": "stream",
     "text": [
      "Ascending: \n",
      "[1, 2, 3, 4]\n",
      "Descending: \n",
      "[4, 3, 2, 1]\n"
     ]
    }
   ],
   "source": [
    "#answer 1\n",
    "tempSet=set()\n",
    "for x in myDictionary:\n",
    "    tempSet.add(x)\n",
    "sortedList = []\n",
    "for x in tempSet:\n",
    "    sortedList.append(x)                                 \n",
    "print(\"Ascending: \")\n",
    "print(sortedList)\n",
    "print(\"Descending: \")\n",
    "print(sortedList[::-1])"
   ]
  },
  {
   "cell_type": "code",
   "execution_count": 2,
   "metadata": {},
   "outputs": [
    {
     "name": "stdout",
     "output_type": "stream",
     "text": [
      "{1: 10, 2: 20} {3: 30, 4: 40} {5: 50, 6: 60}\n"
     ]
    }
   ],
   "source": [
    "#answer 2\n",
    "dic1={1:10, 2:20}\n",
    "dic2={3:30, 4:40}\n",
    "dic3={5:50,6:60}\n",
    "print(dic1,dic2,dic3)"
   ]
  },
  {
   "cell_type": "code",
   "execution_count": 15,
   "metadata": {},
   "outputs": [
    {
     "name": "stdout",
     "output_type": "stream",
     "text": [
      "{1: 10, 2: 20, 3: 30, 4: 40, 5: 50, 6: 60}\n"
     ]
    }
   ],
   "source": [
    "#answer 2 continued\n",
    "resultantDictionary = dict()\n",
    "resultantDictionary.update(dic1.copy())\n",
    "resultantDictionary.update(dic2.copy())\n",
    "resultantDictionary.update(dic3.copy())\n",
    "print(resultantDictionary)"
   ]
  },
  {
   "cell_type": "code",
   "execution_count": 14,
   "metadata": {},
   "outputs": [
    {
     "name": "stdout",
     "output_type": "stream",
     "text": [
      "Enter a key to search in dictionary: 6\n",
      "Key is in the dictionary with value: 60\n"
     ]
    }
   ],
   "source": [
    "#answer 3\n",
    "#as all the keys in resultantDictionary are integers, explicit typecasting is done\n",
    "#else, we could do the same method as previous class\n",
    "key=int(input(\"Enter a key to search in dictionary: \"))\n",
    "lookup=resultantDictionary.get(key)\n",
    "if lookup==None:\n",
    "    print(\"Key is not in the dictionary: \",resultantDictionary)\n",
    "else:\n",
    "    print(\"Key is in the dictionary with value:\",lookup)"
   ]
  },
  {
   "cell_type": "code",
   "execution_count": 26,
   "metadata": {},
   "outputs": [
    {
     "name": "stdout",
     "output_type": "stream",
     "text": [
      "Enter a number to generate squared dictionary from 1 to 15\n",
      "Squared dictionary:  {1: 1, 2: 4, 3: 9, 4: 16, 5: 25, 6: 36, 7: 49, 8: 64, 9: 81, 10: 100, 11: 121, 12: 144, 13: 169, 14: 196, 15: 225}\n"
     ]
    }
   ],
   "source": [
    "#answer 4\n",
    "n=int(input(\"Enter a number to generate squared dictionary from 1 to \"))\n",
    "squaredDictionary = dict()\n",
    "for i in range(1,n+1):\n",
    "    squaredDictionary.update({i:i**2})\n",
    "print(\"Squared dictionary: \",squaredDictionary)"
   ]
  },
  {
   "cell_type": "code",
   "execution_count": 29,
   "metadata": {},
   "outputs": [
    {
     "name": "stdout",
     "output_type": "stream",
     "text": [
      "{1: 1, 2: 4, 3: 9, 4: 16, 5: 25, 6: 36, 7: 49, 8: 64, 9: 81, 10: 100, 11: 121, 12: 144, 13: 169, 14: 196, 15: 225}\n"
     ]
    }
   ],
   "source": [
    "#answer 5\n",
    "#using squaredDictionary as it already contains 1-15 (laziness is a pythonista's moto XD)\n",
    "print(squaredDictionary)\n",
    "#we can also do with for loop like: \n",
    "#for x in squaredDictionary.keys(): print(x,\":\",sqauredDictionary.get(x))\n",
    "#or\n",
    "#for x,y in squaredDictionary.items(): print(x,\":\",y)"
   ]
  },
  {
   "cell_type": "code",
   "execution_count": 5,
   "metadata": {},
   "outputs": [
    {
     "name": "stdout",
     "output_type": "stream",
     "text": [
      "[(10, 20, 100), (20, 30, 100), (30, 40, 100)]\n"
     ]
    }
   ],
   "source": [
    "#answer 6\n",
    "sampleListOfTuples = [(10,20,40),(20,30,50),(30,40,60)]\n",
    "n=len(sampleListOfTuples)\n",
    "for i in range(n):\n",
    "    t4tuple=sampleListOfTuples.pop(0)\n",
    "    tempList=list(t4tuple)\n",
    "    tempList[-1]=100\n",
    "    sampleListOfTuples.append(tuple(tempList))\n",
    "print(sampleListOfTuples)"
   ]
  },
  {
   "cell_type": "code",
   "execution_count": 42,
   "metadata": {},
   "outputs": [
    {
     "name": "stdout",
     "output_type": "stream",
     "text": [
      "{1, 2, 3, 7, 8, 9}\n"
     ]
    }
   ],
   "source": [
    "#answer 7\n",
    "set1=set((1,2,3,4,5,6))\n",
    "set2=set((4,5,6,7,8,9))\n",
    "finalSet=set1.symmetric_difference(set2)\n",
    "print(finalSet)"
   ]
  },
  {
   "cell_type": "code",
   "execution_count": null,
   "metadata": {},
   "outputs": [],
   "source": []
  }
 ],
 "metadata": {
  "kernelspec": {
   "display_name": "Python 3 (ipykernel)",
   "language": "python",
   "name": "python3"
  },
  "language_info": {
   "codemirror_mode": {
    "name": "ipython",
    "version": 3
   },
   "file_extension": ".py",
   "mimetype": "text/x-python",
   "name": "python",
   "nbconvert_exporter": "python",
   "pygments_lexer": "ipython3",
   "version": "3.9.7"
  }
 },
 "nbformat": 4,
 "nbformat_minor": 4
}
