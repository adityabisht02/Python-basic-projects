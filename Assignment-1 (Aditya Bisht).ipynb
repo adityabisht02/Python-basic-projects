{
 "cells": [
  {
   "cell_type": "markdown",
   "id": "1dc51e37",
   "metadata": {},
   "source": [
    "# Assignment-1\n",
    "-Aditya Bisht(200161)"
   ]
  },
  {
   "cell_type": "markdown",
   "id": "00e0a411",
   "metadata": {},
   "source": [
    "1. Write a Python function that takes a list and returns a new list with unique elements of the\n",
    "first list."
   ]
  },
  {
   "cell_type": "code",
   "execution_count": 31,
   "id": "c8deb71d",
   "metadata": {},
   "outputs": [
    {
     "name": "stdout",
     "output_type": "stream",
     "text": [
      "[1, 4, 5, 6, 7]\n"
     ]
    }
   ],
   "source": [
    "def makeunique(list1):\n",
    "    \n",
    "    newlist1=[];\n",
    "\n",
    "    for i in list1:\n",
    "        if(i in newlist1):\n",
    "            continue;\n",
    "        else:\n",
    "            newlist1.append(i);\n",
    "    return newlist1\n",
    "\n",
    "list1=[1,1,1,4,5,6,7,4];\n",
    "\n",
    "#expected answer= [1,4,5,6,7]\n",
    "\n",
    "\n",
    "print(makeunique(list1))\n",
    "    \n"
   ]
  },
  {
   "cell_type": "markdown",
   "id": "a4698226",
   "metadata": {},
   "source": [
    "2. Write a Python function to multiply all the numbers in a list"
   ]
  },
  {
   "cell_type": "code",
   "execution_count": 27,
   "id": "7e5618cd",
   "metadata": {},
   "outputs": [
    {
     "name": "stdout",
     "output_type": "stream",
     "text": [
      "Product is : 120\n"
     ]
    }
   ],
   "source": [
    "def multiplylistitems():\n",
    "    list2=[1,5,4,3,2]\n",
    "\n",
    "#expected answer=120 \n",
    "\n",
    "    product=1;\n",
    "\n",
    "    for i in list2:\n",
    "        product=product*i;\n",
    "    print(\"Product is :\",product)\n",
    "    \n",
    "multiplylistitems()"
   ]
  },
  {
   "cell_type": "markdown",
   "id": "478ed8a4",
   "metadata": {},
   "source": [
    "3. Write a Python function that checks whether a passed string is palindrome or not."
   ]
  },
  {
   "cell_type": "code",
   "execution_count": 24,
   "id": "0d6fcc17",
   "metadata": {},
   "outputs": [
    {
     "name": "stdout",
     "output_type": "stream",
     "text": [
      "Enter string : civic\n",
      "Yes ,it is a palindrome\n"
     ]
    }
   ],
   "source": [
    "def checkpalindrome(strval):\n",
    "    rev=\"\"\n",
    "    for i in range(len(strval)-1,-1,-1):\n",
    "        rev=rev+strval[i]\n",
    "    \n",
    "    if(strval==rev):\n",
    "        print(\"Yes ,it is a palindrome\")\n",
    "    else:\n",
    "        print(\"not a palindrome\")\n",
    "\n",
    "\n",
    "strval= str(input(\"Enter string : \"))\n",
    "checkpalindrome(strval)\n"
   ]
  },
  {
   "cell_type": "markdown",
   "id": "bbcaa66e",
   "metadata": {},
   "source": [
    "4. Write a Python function to create and print a list where the values are square of numbers\n",
    "between 1 and 30 (both included)."
   ]
  },
  {
   "cell_type": "code",
   "execution_count": 20,
   "id": "8ab1740f",
   "metadata": {},
   "outputs": [
    {
     "name": "stdout",
     "output_type": "stream",
     "text": [
      "[1, 4, 9, 16, 25, 36, 49, 64, 81, 100, 121, 144, 169, 196, 225, 256, 289, 324, 361, 400, 441, 484, 529, 576, 625, 676, 729, 784, 841, 900]\n"
     ]
    }
   ],
   "source": [
    "\n",
    "def printsquarelist():\n",
    "    list4=[]\n",
    "\n",
    "    for i in range(1,31):\n",
    "        list4.append(i**2)\n",
    "    print(list4)\n",
    "\n",
    "printsquarelist()\n",
    "\n",
    "\n"
   ]
  },
  {
   "cell_type": "markdown",
   "id": "16dad582",
   "metadata": {},
   "source": [
    "5. Write a Python program to detect the number of local variables declared in a function."
   ]
  },
  {
   "cell_type": "code",
   "execution_count": 33,
   "id": "0016ef9a",
   "metadata": {},
   "outputs": [
    {
     "name": "stdout",
     "output_type": "stream",
     "text": [
      "3\n"
     ]
    }
   ],
   "source": [
    "def randomfunc():\n",
    "    name=\"adi\";\n",
    "    rollno=1;\n",
    "    section=1;\n",
    "#expected answer is 3\n",
    "\n",
    "print(randomfunc.__code__.co_nlocals)\n"
   ]
  },
  {
   "cell_type": "markdown",
   "id": "5f353c5b",
   "metadata": {},
   "source": [
    "6. Given a number N and power P. The task is to write a Python program to find the power of a\n",
    "number using recursion."
   ]
  },
  {
   "cell_type": "code",
   "execution_count": 19,
   "id": "396499b8",
   "metadata": {},
   "outputs": [
    {
     "name": "stdout",
     "output_type": "stream",
     "text": [
      "Enter N :-1\n",
      "Enter P :6\n",
      "1\n"
     ]
    }
   ],
   "source": [
    "def calcpower(n,p):\n",
    "    if p>0:\n",
    "        return n*calcpower(n,p-1);\n",
    "    if p==0:\n",
    "        return 1;\n",
    "    else:\n",
    "        return \"Please input positive numbers\";\n",
    "    \n",
    "    \n",
    "N= int(input(\"Enter N :\"));\n",
    "P= int(input(\"Enter P :\"));\n",
    "\n",
    "ans=calcpower(N,P);\n",
    "print(ans)\n",
    "\n",
    "\n",
    "    \n",
    "    \n",
    "        \n"
   ]
  },
  {
   "cell_type": "markdown",
   "id": "4b5e4f38",
   "metadata": {},
   "source": [
    "7. Write a function called showNumbers that takes a parameter called limit. It should print all the\n",
    "numbers between 0 and limit with a label to identify the even and odd numbers."
   ]
  },
  {
   "cell_type": "code",
   "execution_count": 17,
   "id": "9c3d53a3",
   "metadata": {},
   "outputs": [
    {
     "name": "stdout",
     "output_type": "stream",
     "text": [
      "Enter limit: 3\n",
      "0 EVEN\n",
      "1 ODD\n",
      "2 EVEN\n",
      "3 ODD\n"
     ]
    }
   ],
   "source": [
    "def checkoddeven(i):\n",
    "    if i%2==0:\n",
    "        return \"EVEN\"\n",
    "    else:\n",
    "        return \"ODD\"\n",
    "\n",
    "def shownumbers(limit):\n",
    "    for i in range(0,limit+1):\n",
    "        str=checkoddeven(i)\n",
    "        print(i,str)\n",
    "    \n",
    "    \n",
    "\n",
    "\n",
    "limit=int(input(\"Enter limit: \"))\n",
    "shownumbers(limit)\n"
   ]
  },
  {
   "cell_type": "markdown",
   "id": "0e027da8",
   "metadata": {},
   "source": [
    "8. Write a function that returns the sum of multiples of 3 and 5 between 0 and limit (parameter).\n",
    "For example, if limit is 20, it should return the sum of 3, 5, 6, 9, 10, 12, 15, 18, 20."
   ]
  },
  {
   "cell_type": "code",
   "execution_count": 39,
   "id": "bdd4c4d8",
   "metadata": {},
   "outputs": [
    {
     "name": "stdout",
     "output_type": "stream",
     "text": [
      "Enter limit: 20\n",
      "0\n",
      "3\n",
      "5\n",
      "6\n",
      "9\n",
      "10\n",
      "12\n",
      "15\n",
      "18\n",
      "20\n",
      "98\n"
     ]
    }
   ],
   "source": [
    "def sumofmultiples(limit):\n",
    "    sum=0;\n",
    "    for i in range(0,limit+1):\n",
    "        if(i%3==0):\n",
    "            if(i%5==0):\n",
    "                pass;\n",
    "            else:\n",
    "                print(i)\n",
    "                sum+=i\n",
    "        if(i%5==0):\n",
    "            print(i)\n",
    "            sum+=i\n",
    "        else:\n",
    "            continue;\n",
    "    print(sum)\n",
    "                \n",
    "    \n",
    "\n",
    "\n",
    "limit=int(input(\"Enter limit: \"))\n",
    "sumofmultiples(limit)\n",
    "\n"
   ]
  },
  {
   "cell_type": "markdown",
   "id": "381c40a5",
   "metadata": {},
   "source": [
    "9. Write a function to concatenate two lists in the following order\n",
    "Input: list1 = [\"Hello \", \"take \"]\n",
    "list2 = [\"Dear\", \"Sir\"]\n",
    "Output: ['Hello Dear', 'Hello Sir', 'take Dear', 'take Sir']"
   ]
  },
  {
   "cell_type": "code",
   "execution_count": 42,
   "id": "27b644b5",
   "metadata": {},
   "outputs": [
    {
     "name": "stdout",
     "output_type": "stream",
     "text": [
      "['Hello Dear', 'Hello Sir', 'take Dear', 'take Sir']\n"
     ]
    }
   ],
   "source": [
    "def concatenate(list1,list2):\n",
    "    list3=[]\n",
    "    for i in list1:\n",
    "        for j in list2:\n",
    "            temp=i+\" \"+j\n",
    "            list3.append(temp)\n",
    "    print(list3)\n",
    "\n",
    "listA=[\"Hello\",\"take\"]\n",
    "listB=[\"Dear\",\"Sir\"]\n",
    "concatenate(listA,listB)\n"
   ]
  },
  {
   "cell_type": "markdown",
   "id": "99fce299",
   "metadata": {},
   "source": [
    "10. Write a function to remove all occurrences of a specific item from a list."
   ]
  },
  {
   "cell_type": "code",
   "execution_count": 49,
   "id": "76708318",
   "metadata": {},
   "outputs": [
    {
     "name": "stdout",
     "output_type": "stream",
     "text": [
      "Enter number u wanna remove :5\n",
      "[1, 1, 2, 3, 4, 6]\n"
     ]
    }
   ],
   "source": [
    "def removeelements(arr,key):\n",
    "    count=0\n",
    "    for i in arr:\n",
    "        if i==key:\n",
    "            count+=1\n",
    "    while count>0:\n",
    "        arr.remove(key)\n",
    "        count-=1\n",
    "    print(arr)\n",
    "    \n",
    "\n",
    "key=int(input(\"Enter number u wanna remove :\"))\n",
    "arr=[1,1,2,3,4,5,6,5]\n",
    "removeelements(arr,key)\n"
   ]
  },
  {
   "cell_type": "code",
   "execution_count": null,
   "id": "09b957f5",
   "metadata": {},
   "outputs": [],
   "source": []
  }
 ],
 "metadata": {
  "kernelspec": {
   "display_name": "Python 3 (ipykernel)",
   "language": "python",
   "name": "python3"
  },
  "language_info": {
   "codemirror_mode": {
    "name": "ipython",
    "version": 3
   },
   "file_extension": ".py",
   "mimetype": "text/x-python",
   "name": "python",
   "nbconvert_exporter": "python",
   "pygments_lexer": "ipython3",
   "version": "3.9.7"
  }
 },
 "nbformat": 4,
 "nbformat_minor": 5
}
